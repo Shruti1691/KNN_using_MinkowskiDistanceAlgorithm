{
 "cells": [
  {
   "cell_type": "code",
   "execution_count": 14,
   "metadata": {},
   "outputs": [],
   "source": [
    "import pandas as pd\n",
    "import numpy as np                \n",
    "from math import *\n",
    "from sklearn.metrics import confusion_matrix\n",
    "from sklearn.metrics import classification_report\n"
   ]
  },
  {
   "cell_type": "code",
   "execution_count": 34,
   "metadata": {},
   "outputs": [
    {
     "data": {
      "text/html": [
       "<div>\n",
       "<style scoped>\n",
       "    .dataframe tbody tr th:only-of-type {\n",
       "        vertical-align: middle;\n",
       "    }\n",
       "\n",
       "    .dataframe tbody tr th {\n",
       "        vertical-align: top;\n",
       "    }\n",
       "\n",
       "    .dataframe thead th {\n",
       "        text-align: right;\n",
       "    }\n",
       "</style>\n",
       "<table border=\"1\" class=\"dataframe\">\n",
       "  <thead>\n",
       "    <tr style=\"text-align: right;\">\n",
       "      <th></th>\n",
       "      <th>0</th>\n",
       "      <th>1</th>\n",
       "      <th>2</th>\n",
       "      <th>3</th>\n",
       "      <th>4</th>\n",
       "      <th>5</th>\n",
       "      <th>6</th>\n",
       "      <th>7</th>\n",
       "      <th>8</th>\n",
       "      <th>9</th>\n",
       "      <th>...</th>\n",
       "      <th>87</th>\n",
       "      <th>88</th>\n",
       "      <th>89</th>\n",
       "      <th>90</th>\n",
       "      <th>91</th>\n",
       "      <th>92</th>\n",
       "      <th>93</th>\n",
       "      <th>94</th>\n",
       "      <th>95</th>\n",
       "      <th>96</th>\n",
       "    </tr>\n",
       "  </thead>\n",
       "  <tbody>\n",
       "    <tr>\n",
       "      <td>0</td>\n",
       "      <td>-1.0</td>\n",
       "      <td>0.502055</td>\n",
       "      <td>0.542163</td>\n",
       "      <td>0.722383</td>\n",
       "      <td>1.428885</td>\n",
       "      <td>2.136516</td>\n",
       "      <td>2.281149</td>\n",
       "      <td>1.936274</td>\n",
       "      <td>1.468890</td>\n",
       "      <td>1.008845</td>\n",
       "      <td>...</td>\n",
       "      <td>0.931043</td>\n",
       "      <td>0.610298</td>\n",
       "      <td>0.638894</td>\n",
       "      <td>0.684679</td>\n",
       "      <td>0.583238</td>\n",
       "      <td>0.640522</td>\n",
       "      <td>0.708585</td>\n",
       "      <td>0.705011</td>\n",
       "      <td>0.713815</td>\n",
       "      <td>0.433765</td>\n",
       "    </tr>\n",
       "    <tr>\n",
       "      <td>1</td>\n",
       "      <td>1.0</td>\n",
       "      <td>0.147647</td>\n",
       "      <td>0.804668</td>\n",
       "      <td>0.367771</td>\n",
       "      <td>0.243894</td>\n",
       "      <td>0.026614</td>\n",
       "      <td>-0.274402</td>\n",
       "      <td>0.096731</td>\n",
       "      <td>-0.747731</td>\n",
       "      <td>-1.609777</td>\n",
       "      <td>...</td>\n",
       "      <td>-0.533503</td>\n",
       "      <td>-0.400228</td>\n",
       "      <td>0.176084</td>\n",
       "      <td>1.111768</td>\n",
       "      <td>2.438428</td>\n",
       "      <td>2.734889</td>\n",
       "      <td>1.736054</td>\n",
       "      <td>0.036857</td>\n",
       "      <td>-1.265074</td>\n",
       "      <td>-0.208024</td>\n",
       "    </tr>\n",
       "    <tr>\n",
       "      <td>2</td>\n",
       "      <td>-1.0</td>\n",
       "      <td>0.316646</td>\n",
       "      <td>0.243199</td>\n",
       "      <td>0.370471</td>\n",
       "      <td>1.063738</td>\n",
       "      <td>1.678187</td>\n",
       "      <td>1.759558</td>\n",
       "      <td>1.697717</td>\n",
       "      <td>1.612159</td>\n",
       "      <td>1.168188</td>\n",
       "      <td>...</td>\n",
       "      <td>0.764229</td>\n",
       "      <td>0.610621</td>\n",
       "      <td>0.552900</td>\n",
       "      <td>0.566786</td>\n",
       "      <td>0.604002</td>\n",
       "      <td>0.777068</td>\n",
       "      <td>0.812345</td>\n",
       "      <td>0.748848</td>\n",
       "      <td>0.818042</td>\n",
       "      <td>0.539347</td>\n",
       "    </tr>\n",
       "    <tr>\n",
       "      <td>3</td>\n",
       "      <td>-1.0</td>\n",
       "      <td>1.168874</td>\n",
       "      <td>2.075901</td>\n",
       "      <td>1.760140</td>\n",
       "      <td>1.606446</td>\n",
       "      <td>1.949046</td>\n",
       "      <td>1.302842</td>\n",
       "      <td>0.459332</td>\n",
       "      <td>0.516412</td>\n",
       "      <td>0.852180</td>\n",
       "      <td>...</td>\n",
       "      <td>0.419006</td>\n",
       "      <td>0.723888</td>\n",
       "      <td>1.323947</td>\n",
       "      <td>2.136488</td>\n",
       "      <td>1.746597</td>\n",
       "      <td>1.470220</td>\n",
       "      <td>1.893512</td>\n",
       "      <td>1.256949</td>\n",
       "      <td>0.800407</td>\n",
       "      <td>0.731540</td>\n",
       "    </tr>\n",
       "    <tr>\n",
       "      <td>4</td>\n",
       "      <td>1.0</td>\n",
       "      <td>0.648658</td>\n",
       "      <td>0.752026</td>\n",
       "      <td>2.636231</td>\n",
       "      <td>3.455716</td>\n",
       "      <td>2.118157</td>\n",
       "      <td>0.520620</td>\n",
       "      <td>-0.188627</td>\n",
       "      <td>0.780818</td>\n",
       "      <td>0.933775</td>\n",
       "      <td>...</td>\n",
       "      <td>-0.097869</td>\n",
       "      <td>-0.136787</td>\n",
       "      <td>-0.340237</td>\n",
       "      <td>-0.089441</td>\n",
       "      <td>-0.080297</td>\n",
       "      <td>-0.192584</td>\n",
       "      <td>-0.304704</td>\n",
       "      <td>-0.454556</td>\n",
       "      <td>0.314590</td>\n",
       "      <td>0.582190</td>\n",
       "    </tr>\n",
       "  </tbody>\n",
       "</table>\n",
       "<p>5 rows × 97 columns</p>\n",
       "</div>"
      ],
      "text/plain": [
       "    0         1         2         3         4         5         6         7   \\\n",
       "0 -1.0  0.502055  0.542163  0.722383  1.428885  2.136516  2.281149  1.936274   \n",
       "1  1.0  0.147647  0.804668  0.367771  0.243894  0.026614 -0.274402  0.096731   \n",
       "2 -1.0  0.316646  0.243199  0.370471  1.063738  1.678187  1.759558  1.697717   \n",
       "3 -1.0  1.168874  2.075901  1.760140  1.606446  1.949046  1.302842  0.459332   \n",
       "4  1.0  0.648658  0.752026  2.636231  3.455716  2.118157  0.520620 -0.188627   \n",
       "\n",
       "         8         9   ...        87        88        89        90        91  \\\n",
       "0  1.468890  1.008845  ...  0.931043  0.610298  0.638894  0.684679  0.583238   \n",
       "1 -0.747731 -1.609777  ... -0.533503 -0.400228  0.176084  1.111768  2.438428   \n",
       "2  1.612159  1.168188  ...  0.764229  0.610621  0.552900  0.566786  0.604002   \n",
       "3  0.516412  0.852180  ...  0.419006  0.723888  1.323947  2.136488  1.746597   \n",
       "4  0.780818  0.933775  ... -0.097869 -0.136787 -0.340237 -0.089441 -0.080297   \n",
       "\n",
       "         92        93        94        95        96  \n",
       "0  0.640522  0.708585  0.705011  0.713815  0.433765  \n",
       "1  2.734889  1.736054  0.036857 -1.265074 -0.208024  \n",
       "2  0.777068  0.812345  0.748848  0.818042  0.539347  \n",
       "3  1.470220  1.893512  1.256949  0.800407  0.731540  \n",
       "4 -0.192584 -0.304704 -0.454556  0.314590  0.582190  \n",
       "\n",
       "[5 rows x 97 columns]"
      ]
     },
     "execution_count": 34,
     "metadata": {},
     "output_type": "execute_result"
    }
   ],
   "source": [
    "#Importing train and test data\n",
    "train_df = pd.read_csv('ECG200_TRAIN.txt',delimiter='\\s+', header=None)\n",
    "test_df = pd.read_csv('ECG200_TEST.txt', delimiter='\\s+',header=None)\n",
    "train_df.head()\n"
   ]
  },
  {
   "cell_type": "code",
   "execution_count": 16,
   "metadata": {},
   "outputs": [],
   "source": [
    "#Creating train x and y and test x and y\n",
    "\n",
    "train_x = train_df.drop(train_df.columns[0], axis = 1)\n",
    "train_y = train_df.iloc[:,0]\n",
    "test_x = test_df.drop(train_df.columns[0], axis = 1)\n",
    "test_y = test_df.iloc[:,0]\n"
   ]
  },
  {
   "cell_type": "code",
   "execution_count": 17,
   "metadata": {},
   "outputs": [],
   "source": [
    "#creating train and test matrix\n",
    "train_matrix = np.matrix(train_df)\n",
    "train_x_matrix = np.asmatrix(train_x)\n",
    "test_x_matrix = np.asmatrix(test_x)\n",
    "test_y_array = np.asarray(test_y)\n"
   ]
  },
  {
   "cell_type": "code",
   "execution_count": 18,
   "metadata": {},
   "outputs": [],
   "source": [
    "def Minkowski_distance(R1, R2, p,length):\n",
    "    distance = 0.0\n",
    "    for i in length:\n",
    "        distance += (abs(R1[i]-R2[i]))**p        \n",
    "    return distance**(1/p)\n",
    "  "
   ]
  },
  {
   "cell_type": "code",
   "execution_count": 19,
   "metadata": {},
   "outputs": [],
   "source": [
    "def get_neighbors(train, test, k, p):\n",
    "    distances = list()\n",
    "    length = range(len(test)-1)\n",
    "    for train_row in train:\n",
    "        dist = Minkowski_distance(test, train_row,p,length)\n",
    "        distances.append((train_row, dist))\n",
    "        distances.sort(key=lambda tup: tup[1])\n",
    "        neighbors = list()\n",
    "    for i in range(k):\n",
    "        neighbors.append(distances[i][0])\n",
    "    return neighbors\n"
   ]
  },
  {
   "cell_type": "code",
   "execution_count": 20,
   "metadata": {},
   "outputs": [],
   "source": [
    "def predict_classification(train, test, k,p):\n",
    "    neighbors = get_neighbors(train, test, k, p)\n",
    "    output_values = [row[0] for row in neighbors]\n",
    "    prediction = max(set(output_values), key=output_values.count)\n",
    "    return prediction\n",
    "\n",
    "# kNN Algorithm\n",
    "def k_nearest_neighbors(train, test, k, p):\n",
    "    predictions = list()\n",
    "    for row in test:\n",
    "        output = predict_classification(train, row, k,p)\n",
    "        predictions.append(output)\n",
    "    return(predictions)\n"
   ]
  },
  {
   "cell_type": "code",
   "execution_count": 21,
   "metadata": {},
   "outputs": [],
   "source": [
    "\n",
    "prediction1 = np.asarray(k_nearest_neighbors(np.asarray(train_matrix),np.asarray(test_x_matrix),3,0.5)) # k = 3, p = 0.5\n",
    "prediction2 = np.asarray(k_nearest_neighbors(np.asarray(train_matrix),np.asarray(test_x_matrix),5,0.5)) # k = 5 , p = 0.5\n",
    "prediction3 = np.asarray(k_nearest_neighbors(np.asarray(train_matrix),np.asarray(test_x_matrix),11,0.5))# k = 11 , p = 0.5\n",
    "\n",
    "prediction4 = np.asarray(k_nearest_neighbors(np.asarray(train_matrix),np.asarray(test_x_matrix),3,1)) # k = 3, p = 1\n",
    "prediction5 = np.asarray(k_nearest_neighbors(np.asarray(train_matrix),np.asarray(test_x_matrix),5,1)) # k = 5 , p = 1\n",
    "prediction6 = np.asarray(k_nearest_neighbors(np.asarray(train_matrix),np.asarray(test_x_matrix),11,1))# k = 11 , p = 1\n",
    "\n",
    "prediction7 = np.asarray(k_nearest_neighbors(np.asarray(train_matrix),np.asarray(test_x_matrix),3,2)) # k = 3, p = 2\n",
    "prediction8 = np.asarray(k_nearest_neighbors(np.asarray(train_matrix),np.asarray(test_x_matrix),5,2)) # k = 5 , p = 2\n",
    "prediction9 = np.asarray(k_nearest_neighbors(np.asarray(train_matrix),np.asarray(test_x_matrix),11,2))# k = 11 , p = 2\n",
    "\n",
    "prediction10 = np.asarray(k_nearest_neighbors(np.asarray(train_matrix),np.asarray(test_x_matrix),3,4)) # k = 3, p = 4\n",
    "prediction11 = np.asarray(k_nearest_neighbors(np.asarray(train_matrix),np.asarray(test_x_matrix),5,4)) # k = 5 , p = 4\n",
    "prediction12 = np.asarray(k_nearest_neighbors(np.asarray(train_matrix),np.asarray(test_x_matrix),11,4))# k = 11 , p = 4\n"
   ]
  },
  {
   "cell_type": "code",
   "execution_count": 22,
   "metadata": {},
   "outputs": [
    {
     "name": "stdout",
     "output_type": "stream",
     "text": [
      "[[29  7]\n",
      " [ 2 62]]\n",
      "              precision    recall  f1-score   support\n",
      "\n",
      "        -1.0       0.94      0.81      0.87        36\n",
      "         1.0       0.90      0.97      0.93        64\n",
      "\n",
      "    accuracy                           0.91       100\n",
      "   macro avg       0.92      0.89      0.90       100\n",
      "weighted avg       0.91      0.91      0.91       100\n",
      "\n"
     ]
    }
   ],
   "source": [
    "print(confusion_matrix(test_y_array,prediction1))\n",
    "print(classification_report(test_y_array,prediction1))"
   ]
  },
  {
   "cell_type": "code",
   "execution_count": 23,
   "metadata": {},
   "outputs": [
    {
     "name": "stdout",
     "output_type": "stream",
     "text": [
      "[[25 11]\n",
      " [ 3 61]]\n",
      "              precision    recall  f1-score   support\n",
      "\n",
      "        -1.0       0.89      0.69      0.78        36\n",
      "         1.0       0.85      0.95      0.90        64\n",
      "\n",
      "    accuracy                           0.86       100\n",
      "   macro avg       0.87      0.82      0.84       100\n",
      "weighted avg       0.86      0.86      0.86       100\n",
      "\n"
     ]
    }
   ],
   "source": [
    "print(confusion_matrix(test_y_array,prediction2))\n",
    "print(classification_report(test_y_array,prediction2))"
   ]
  },
  {
   "cell_type": "code",
   "execution_count": 24,
   "metadata": {},
   "outputs": [
    {
     "name": "stdout",
     "output_type": "stream",
     "text": [
      "[[28  8]\n",
      " [11 53]]\n",
      "              precision    recall  f1-score   support\n",
      "\n",
      "        -1.0       0.72      0.78      0.75        36\n",
      "         1.0       0.87      0.83      0.85        64\n",
      "\n",
      "    accuracy                           0.81       100\n",
      "   macro avg       0.79      0.80      0.80       100\n",
      "weighted avg       0.81      0.81      0.81       100\n",
      "\n"
     ]
    }
   ],
   "source": [
    "print(confusion_matrix(test_y_array,prediction3))\n",
    "print(classification_report(test_y_array,prediction3))"
   ]
  },
  {
   "cell_type": "code",
   "execution_count": 25,
   "metadata": {},
   "outputs": [
    {
     "name": "stdout",
     "output_type": "stream",
     "text": [
      "[[28  8]\n",
      " [ 1 63]]\n",
      "              precision    recall  f1-score   support\n",
      "\n",
      "        -1.0       0.97      0.78      0.86        36\n",
      "         1.0       0.89      0.98      0.93        64\n",
      "\n",
      "    accuracy                           0.91       100\n",
      "   macro avg       0.93      0.88      0.90       100\n",
      "weighted avg       0.92      0.91      0.91       100\n",
      "\n"
     ]
    }
   ],
   "source": [
    "print(confusion_matrix(test_y_array,prediction4))\n",
    "print(classification_report(test_y_array,prediction4))"
   ]
  },
  {
   "cell_type": "code",
   "execution_count": 26,
   "metadata": {},
   "outputs": [
    {
     "name": "stdout",
     "output_type": "stream",
     "text": [
      "[[25 11]\n",
      " [ 2 62]]\n",
      "              precision    recall  f1-score   support\n",
      "\n",
      "        -1.0       0.93      0.69      0.79        36\n",
      "         1.0       0.85      0.97      0.91        64\n",
      "\n",
      "    accuracy                           0.87       100\n",
      "   macro avg       0.89      0.83      0.85       100\n",
      "weighted avg       0.88      0.87      0.86       100\n",
      "\n"
     ]
    }
   ],
   "source": [
    "print(confusion_matrix(test_y_array,prediction5))\n",
    "print(classification_report(test_y_array,prediction5))"
   ]
  },
  {
   "cell_type": "code",
   "execution_count": 27,
   "metadata": {},
   "outputs": [
    {
     "name": "stdout",
     "output_type": "stream",
     "text": [
      "[[27  9]\n",
      " [ 7 57]]\n",
      "              precision    recall  f1-score   support\n",
      "\n",
      "        -1.0       0.79      0.75      0.77        36\n",
      "         1.0       0.86      0.89      0.88        64\n",
      "\n",
      "    accuracy                           0.84       100\n",
      "   macro avg       0.83      0.82      0.82       100\n",
      "weighted avg       0.84      0.84      0.84       100\n",
      "\n"
     ]
    }
   ],
   "source": [
    "print(confusion_matrix(test_y_array,prediction6))\n",
    "print(classification_report(test_y_array,prediction6))"
   ]
  },
  {
   "cell_type": "code",
   "execution_count": 28,
   "metadata": {},
   "outputs": [
    {
     "name": "stdout",
     "output_type": "stream",
     "text": [
      "[[25 11]\n",
      " [ 1 63]]\n",
      "              precision    recall  f1-score   support\n",
      "\n",
      "        -1.0       0.96      0.69      0.81        36\n",
      "         1.0       0.85      0.98      0.91        64\n",
      "\n",
      "    accuracy                           0.88       100\n",
      "   macro avg       0.91      0.84      0.86       100\n",
      "weighted avg       0.89      0.88      0.87       100\n",
      "\n"
     ]
    }
   ],
   "source": [
    "print(confusion_matrix(test_y_array,prediction7))\n",
    "print(classification_report(test_y_array,prediction7))"
   ]
  },
  {
   "cell_type": "code",
   "execution_count": 29,
   "metadata": {},
   "outputs": [
    {
     "name": "stdout",
     "output_type": "stream",
     "text": [
      "[[23 13]\n",
      " [ 2 62]]\n",
      "              precision    recall  f1-score   support\n",
      "\n",
      "        -1.0       0.92      0.64      0.75        36\n",
      "         1.0       0.83      0.97      0.89        64\n",
      "\n",
      "    accuracy                           0.85       100\n",
      "   macro avg       0.87      0.80      0.82       100\n",
      "weighted avg       0.86      0.85      0.84       100\n",
      "\n"
     ]
    }
   ],
   "source": [
    "print(confusion_matrix(test_y_array,prediction8))\n",
    "print(classification_report(test_y_array,prediction8))"
   ]
  },
  {
   "cell_type": "code",
   "execution_count": 30,
   "metadata": {},
   "outputs": [
    {
     "name": "stdout",
     "output_type": "stream",
     "text": [
      "[[23 13]\n",
      " [ 5 59]]\n",
      "              precision    recall  f1-score   support\n",
      "\n",
      "        -1.0       0.82      0.64      0.72        36\n",
      "         1.0       0.82      0.92      0.87        64\n",
      "\n",
      "    accuracy                           0.82       100\n",
      "   macro avg       0.82      0.78      0.79       100\n",
      "weighted avg       0.82      0.82      0.81       100\n",
      "\n"
     ]
    }
   ],
   "source": [
    "print(confusion_matrix(test_y_array,prediction9))\n",
    "print(classification_report(test_y_array,prediction9))"
   ]
  },
  {
   "cell_type": "code",
   "execution_count": 31,
   "metadata": {},
   "outputs": [
    {
     "name": "stdout",
     "output_type": "stream",
     "text": [
      "[[10 26]\n",
      " [ 0 64]]\n",
      "              precision    recall  f1-score   support\n",
      "\n",
      "        -1.0       1.00      0.28      0.43        36\n",
      "         1.0       0.71      1.00      0.83        64\n",
      "\n",
      "    accuracy                           0.74       100\n",
      "   macro avg       0.86      0.64      0.63       100\n",
      "weighted avg       0.82      0.74      0.69       100\n",
      "\n"
     ]
    }
   ],
   "source": [
    "print(confusion_matrix(test_y_array,prediction10))\n",
    "print(classification_report(test_y_array,prediction10))"
   ]
  },
  {
   "cell_type": "code",
   "execution_count": 32,
   "metadata": {},
   "outputs": [
    {
     "name": "stdout",
     "output_type": "stream",
     "text": [
      "[[13 23]\n",
      " [ 1 63]]\n",
      "              precision    recall  f1-score   support\n",
      "\n",
      "        -1.0       0.93      0.36      0.52        36\n",
      "         1.0       0.73      0.98      0.84        64\n",
      "\n",
      "    accuracy                           0.76       100\n",
      "   macro avg       0.83      0.67      0.68       100\n",
      "weighted avg       0.80      0.76      0.72       100\n",
      "\n"
     ]
    }
   ],
   "source": [
    "print(confusion_matrix(test_y_array,prediction11))\n",
    "print(classification_report(test_y_array,prediction11))"
   ]
  },
  {
   "cell_type": "code",
   "execution_count": 33,
   "metadata": {},
   "outputs": [
    {
     "name": "stdout",
     "output_type": "stream",
     "text": [
      "[[13 23]\n",
      " [ 3 61]]\n",
      "              precision    recall  f1-score   support\n",
      "\n",
      "        -1.0       0.81      0.36      0.50        36\n",
      "         1.0       0.73      0.95      0.82        64\n",
      "\n",
      "    accuracy                           0.74       100\n",
      "   macro avg       0.77      0.66      0.66       100\n",
      "weighted avg       0.76      0.74      0.71       100\n",
      "\n"
     ]
    }
   ],
   "source": [
    "print(confusion_matrix(test_y_array,prediction12))\n",
    "print(classification_report(test_y_array,prediction12))"
   ]
  }
 ],
 "metadata": {
  "kernelspec": {
   "display_name": "Python 3",
   "language": "python",
   "name": "python3"
  },
  "language_info": {
   "codemirror_mode": {
    "name": "ipython",
    "version": 3
   },
   "file_extension": ".py",
   "mimetype": "text/x-python",
   "name": "python",
   "nbconvert_exporter": "python",
   "pygments_lexer": "ipython3",
   "version": "3.7.4"
  }
 },
 "nbformat": 4,
 "nbformat_minor": 2
}
